{
 "cells": [
  {
   "cell_type": "markdown",
   "metadata": {},
   "source": [
    "在 Python 中使用 MATLAB Signal Labeler\n"
   ]
  },
  {
   "cell_type": "markdown",
   "metadata": {},
   "source": [
    "匯入所需函示庫"
   ]
  },
  {
   "cell_type": "code",
   "execution_count": 11,
   "metadata": {},
   "outputs": [],
   "source": [
    "import matlab\n",
    "import matlab.engine as eng \n",
    "import matplotlib.pyplot as plt\n",
    "from matplotlib import style\n",
    "import pandas as pd\n",
    "import numpy as np\n",
    "import os"
   ]
  },
  {
   "cell_type": "markdown",
   "metadata": {},
   "source": [
    "建立與現有 MATLAB Session 連結"
   ]
  },
  {
   "cell_type": "code",
   "execution_count": 14,
   "metadata": {},
   "outputs": [
    {
     "name": "stdout",
     "output_type": "stream",
     "text": [
      "('MATLAB_13200',)\n"
     ]
    },
    {
     "ename": "EngineError",
     "evalue": "Unable to connect to MATLAB session 'MATLAB_13200'.",
     "output_type": "error",
     "traceback": [
      "\u001b[1;31m---------------------------------------------------------------------------\u001b[0m",
      "\u001b[1;31mEngineError\u001b[0m                               Traceback (most recent call last)",
      "\u001b[1;32mc:\\Users\\Tim\\Desktop\\terasoft\\活動與研討會資料\\MTK Day\\Demo\\Using MATLAB App in Python_Signal\\UsingAppInPython_Signal.ipynb Cell 5'\u001b[0m in \u001b[0;36m<cell line: 7>\u001b[1;34m()\u001b[0m\n\u001b[0;32m      <a href='vscode-notebook-cell:/c%3A/Users/Tim/Desktop/terasoft/%E6%B4%BB%E5%8B%95%E8%88%87%E7%A0%94%E8%A8%8E%E6%9C%83%E8%B3%87%E6%96%99/MTK%20Day/Demo/Using%20MATLAB%20App%20in%20Python_Signal/UsingAppInPython_Signal.ipynb#ch0000004?line=3'>4</a>\u001b[0m \u001b[39mprint\u001b[39m(matlab_ID)\n\u001b[0;32m      <a href='vscode-notebook-cell:/c%3A/Users/Tim/Desktop/terasoft/%E6%B4%BB%E5%8B%95%E8%88%87%E7%A0%94%E8%A8%8E%E6%9C%83%E8%B3%87%E6%96%99/MTK%20Day/Demo/Using%20MATLAB%20App%20in%20Python_Signal/UsingAppInPython_Signal.ipynb#ch0000004?line=5'>6</a>\u001b[0m \u001b[39m# 選取欲建立連結的 MATLAB Session\u001b[39;00m\n\u001b[1;32m----> <a href='vscode-notebook-cell:/c%3A/Users/Tim/Desktop/terasoft/%E6%B4%BB%E5%8B%95%E8%88%87%E7%A0%94%E8%A8%8E%E6%9C%83%E8%B3%87%E6%96%99/MTK%20Day/Demo/Using%20MATLAB%20App%20in%20Python_Signal/UsingAppInPython_Signal.ipynb#ch0000004?line=6'>7</a>\u001b[0m sess \u001b[39m=\u001b[39m eng\u001b[39m.\u001b[39;49mconnect_matlab(matlab_ID[\u001b[39m0\u001b[39;49m])\n\u001b[0;32m      <a href='vscode-notebook-cell:/c%3A/Users/Tim/Desktop/terasoft/%E6%B4%BB%E5%8B%95%E8%88%87%E7%A0%94%E8%A8%8E%E6%9C%83%E8%B3%87%E6%96%99/MTK%20Day/Demo/Using%20MATLAB%20App%20in%20Python_Signal/UsingAppInPython_Signal.ipynb#ch0000004?line=7'>8</a>\u001b[0m \u001b[39mprint\u001b[39m(sess)\n",
      "File \u001b[1;32mc:\\Users\\Tim\\anaconda3\\envs\\pytorch\\lib\\site-packages\\matlab\\engine\\__init__.py:197\u001b[0m, in \u001b[0;36mconnect_matlab\u001b[1;34m(name, **kwargs)\u001b[0m\n\u001b[0;32m    <a href='file:///c%3A/Users/Tim/anaconda3/envs/pytorch/lib/site-packages/matlab/engine/__init__.py?line=194'>195</a>\u001b[0m future \u001b[39m=\u001b[39m FutureResult(name\u001b[39m=\u001b[39mname, attach\u001b[39m=\u001b[39m\u001b[39mTrue\u001b[39;00m)\n\u001b[0;32m    <a href='file:///c%3A/Users/Tim/anaconda3/envs/pytorch/lib/site-packages/matlab/engine/__init__.py?line=195'>196</a>\u001b[0m \u001b[39mif\u001b[39;00m \u001b[39mnot\u001b[39;00m background:\n\u001b[1;32m--> <a href='file:///c%3A/Users/Tim/anaconda3/envs/pytorch/lib/site-packages/matlab/engine/__init__.py?line=196'>197</a>\u001b[0m     eng \u001b[39m=\u001b[39m future\u001b[39m.\u001b[39;49mresult()\n\u001b[0;32m    <a href='file:///c%3A/Users/Tim/anaconda3/envs/pytorch/lib/site-packages/matlab/engine/__init__.py?line=197'>198</a>\u001b[0m     \u001b[39mreturn\u001b[39;00m eng\n\u001b[0;32m    <a href='file:///c%3A/Users/Tim/anaconda3/envs/pytorch/lib/site-packages/matlab/engine/__init__.py?line=198'>199</a>\u001b[0m \u001b[39melse\u001b[39;00m:\n",
      "File \u001b[1;32mc:\\Users\\Tim\\anaconda3\\envs\\pytorch\\lib\\site-packages\\matlab\\engine\\futureresult.py:67\u001b[0m, in \u001b[0;36mFutureResult.result\u001b[1;34m(self, timeout)\u001b[0m\n\u001b[0;32m     <a href='file:///c%3A/Users/Tim/anaconda3/envs/pytorch/lib/site-packages/matlab/engine/futureresult.py?line=63'>64</a>\u001b[0m     \u001b[39mif\u001b[39;00m timeout \u001b[39m<\u001b[39m \u001b[39m0\u001b[39m:\n\u001b[0;32m     <a href='file:///c%3A/Users/Tim/anaconda3/envs/pytorch/lib/site-packages/matlab/engine/futureresult.py?line=64'>65</a>\u001b[0m         \u001b[39mraise\u001b[39;00m \u001b[39mTypeError\u001b[39;00m(pythonengine\u001b[39m.\u001b[39mgetMessage(\u001b[39m'\u001b[39m\u001b[39mTimeoutCannotBeNegative\u001b[39m\u001b[39m'\u001b[39m))\n\u001b[1;32m---> <a href='file:///c%3A/Users/Tim/anaconda3/envs/pytorch/lib/site-packages/matlab/engine/futureresult.py?line=66'>67</a>\u001b[0m \u001b[39mreturn\u001b[39;00m \u001b[39mself\u001b[39;49m\u001b[39m.\u001b[39;49m__future\u001b[39m.\u001b[39;49mresult(timeout)\n",
      "File \u001b[1;32mc:\\Users\\Tim\\anaconda3\\envs\\pytorch\\lib\\site-packages\\matlab\\engine\\matlabfuture.py:87\u001b[0m, in \u001b[0;36mMatlabFuture.result\u001b[1;34m(self, timeout)\u001b[0m\n\u001b[0;32m     <a href='file:///c%3A/Users/Tim/anaconda3/envs/pytorch/lib/site-packages/matlab/engine/matlabfuture.py?line=83'>84</a>\u001b[0m     \u001b[39melse\u001b[39;00m:\n\u001b[0;32m     <a href='file:///c%3A/Users/Tim/anaconda3/envs/pytorch/lib/site-packages/matlab/engine/matlabfuture.py?line=84'>85</a>\u001b[0m         \u001b[39mraise\u001b[39;00m \u001b[39mTimeoutError\u001b[39;00m(pythonengine\u001b[39m.\u001b[39mgetMessage(\u001b[39m'\u001b[39m\u001b[39mLaunchMatlabTimeout\u001b[39m\u001b[39m'\u001b[39m))\n\u001b[1;32m---> <a href='file:///c%3A/Users/Tim/anaconda3/envs/pytorch/lib/site-packages/matlab/engine/matlabfuture.py?line=86'>87</a>\u001b[0m handle \u001b[39m=\u001b[39m pythonengine\u001b[39m.\u001b[39;49mgetMATLAB(\u001b[39mself\u001b[39;49m\u001b[39m.\u001b[39;49m_future)\n\u001b[0;32m     <a href='file:///c%3A/Users/Tim/anaconda3/envs/pytorch/lib/site-packages/matlab/engine/matlabfuture.py?line=87'>88</a>\u001b[0m eng \u001b[39m=\u001b[39m MatlabEngine(handle)\n\u001b[0;32m     <a href='file:///c%3A/Users/Tim/anaconda3/envs/pytorch/lib/site-packages/matlab/engine/matlabfuture.py?line=88'>89</a>\u001b[0m \u001b[39mself\u001b[39m\u001b[39m.\u001b[39m_matlab \u001b[39m=\u001b[39m eng\n",
      "\u001b[1;31mEngineError\u001b[0m: Unable to connect to MATLAB session 'MATLAB_13200'."
     ]
    }
   ],
   "source": [
    "# 找到現有執行中的 MATLAB Session ID\n",
    "# In MATLAB: matlab.engine.shareEngine\n",
    "matlab_ID = eng.find_matlab()\n",
    "print(matlab_ID)\n",
    "\n",
    "# 選取欲建立連結的 MATLAB Session\n",
    "sess = eng.connect_matlab(matlab_ID[0])\n",
    "print(sess)"
   ]
  },
  {
   "cell_type": "markdown",
   "metadata": {},
   "source": [
    "調用MATLAB中函式"
   ]
  },
  {
   "cell_type": "code",
   "execution_count": 15,
   "metadata": {},
   "outputs": [],
   "source": [
    "# Add Search Path\n",
    "demo_path =  'C:\\\\Users\\\\Tim\\\\Desktop\\\\terasoft\\\\活動與研討會資料\\\\MTK Day\\\\Demo\\\\Using MATLAB App in Python_Signal'\n",
    "os.chdir(demo_path)\n",
    "\n",
    "# 圖檔資料夾路徑\n",
    "signal_path = 'C:/Users/Tim/Desktop/terasoft/活動與研討會資料/MTK Day/Demo/Dataset/QTDataset/'\n",
    "ds = sess.signalDatastore(signal_path,\n",
    "    'SignalVariableNames','ecgSignal',\n",
    "    'SampleRateVariableName','Fs')\n",
    "\n",
    "# 建立subset\n",
    "indices = matlab.double(range(1,6)) # 取5筆訊號\n",
    "subsds = sess.subset(ds,indices)\n",
    "labeled_ds = sess.labeledSignalSet(subsds)\n",
    "sess.workspace['labeled_ds'] = labeled_ds"
   ]
  },
  {
   "cell_type": "markdown",
   "metadata": {},
   "source": [
    "在 Python 中調用 MATLAB APP"
   ]
  },
  {
   "cell_type": "code",
   "execution_count": 16,
   "metadata": {},
   "outputs": [],
   "source": [
    "sess.signalLabeler(nargout=0) # Open with image dataset imported "
   ]
  },
  {
   "cell_type": "markdown",
   "metadata": {},
   "source": []
  },
  {
   "cell_type": "code",
   "execution_count": 18,
   "metadata": {},
   "outputs": [
    {
     "name": "stdout",
     "output_type": "stream",
     "text": [
      "                                              Signal  \\\n",
      "0  [-79, -77, -79, -81, -80, -83, -84, -86, -82, ...   \n",
      "1  [3, 3, 3, 3, 3, 4, 11, 14, 15, 20, 29, 32, 33,...   \n",
      "2  [0, 0, 0, 0, 0, 0, 1, 1, 1, 1, 1, 1, 0, 1, 2, ...   \n",
      "3  [-18, -18, -18, -18, -17, -17, -18, -18, -17, ...   \n",
      "4  [11, 11, 11, 11, 11, 12, 14, 13, 12, 12, 13, 1...   \n",
      "\n",
      "                                           ECG_Label  \n",
      "0  [{'ROILimits': [0.352, 0.456], 'Value': 'P'}, ...  \n",
      "1                                                 []  \n",
      "2                                                 []  \n",
      "3                                                 []  \n",
      "4                                                 []  \n"
     ]
    }
   ],
   "source": [
    "label_table = sess.workspace['ls']\n",
    "out = sess.getLabeledSignal(label_table)    # Convert MATLAB format [xmin, ymin, w, h] -> Pytorch [xmin, ymin, xmax, ymax]\n",
    "\n",
    "sess.saveToJSON(out, 'LabeledSignal.json',nargout=0)     # Save MATLAB table into json format file\n",
    "LabeledSignal_df = pd.read_json('LabeledSignal.json')\n",
    "\n",
    "print(LabeledSignal_df)\n"
   ]
  },
  {
   "cell_type": "code",
   "execution_count": 19,
   "metadata": {},
   "outputs": [
    {
     "data": {
      "text/plain": [
       "<matplotlib.legend.Legend at 0x16acaf60640>"
      ]
     },
     "execution_count": 19,
     "metadata": {},
     "output_type": "execute_result"
    },
    {
     "data": {
      "image/png": "[encoded data removed]",
      "text/plain": [
       "<Figure size 432x288 with 1 Axes>"
      ]
     },
     "metadata": {},
     "output_type": "display_data"
    }
   ],
   "source": [
    "# 設定繪圖風格\n",
    "style.use('seaborn-dark')\n",
    "\n",
    "fs = 250    # Sample rate\n",
    "signal_1 = LabeledSignal_df.Signal[0]\n",
    "mask_P = np.zeros_like(signal_1)    # Mask for P-state\n",
    "mask_QRS = np.zeros_like(signal_1)    # Mask for QRS-state\n",
    "mask_T = np.zeros_like(signal_1)    # Mask for T-state\n",
    "for item in LabeledSignal_df['ECG_Label'][0]:\n",
    "    label_info = list(item.values())\n",
    "    ROI = np.int64(np.array(label_info[0])*fs)    # Time -> Data points\n",
    "    Label = label_info[1]   # State Label\n",
    "    if Label == 'P':\n",
    "        mask_P[ROI[0]:ROI[1]] = 1\n",
    "    elif Label == 'QRS':\n",
    "        mask_QRS[ROI[0]:ROI[1]] = 1\n",
    "    else:\n",
    "        mask_T[ROI[0]:ROI[1]] = 1\n",
    "\n",
    "# 繪圖\n",
    "x = np.arange(len(signal_1))\n",
    "y_min = min(signal_1)\n",
    "y_max = max(signal_1)\n",
    "plt.plot(signal_1[:1000])   # Raw Signal\n",
    "plt.fill_between(x, y_min, y_max, where=mask_P, color='b', alpha=0.5, label='P')\n",
    "plt.fill_between(x, y_min, y_max, where=mask_QRS, color='r', alpha=0.5, label='QRS')\n",
    "plt.fill_between(x, y_min, y_max, where=mask_T, color='y', alpha=0.5, label='T')\n",
    "plt.legend()"
   ]
  },
  {
   "cell_type": "markdown",
   "metadata": {},
   "source": [
    "測試 Bounding Box "
   ]
  },
  {
   "cell_type": "code",
   "execution_count": null,
   "metadata": {},
   "outputs": [],
   "source": [
    "# Terminate MATLAB session\n",
    "sess.exit()"
   ]
  }
 ],
 "metadata": {
  "interpreter": {
   "hash": "8105fc34f84f95f35c6f2d876cc3e9ecd00131f83b1f6204b82a7a9426cdf110"
  },
  "kernelspec": {
   "display_name": "Python 3.8.13 ('pytorch')",
   "language": "python",
   "name": "python3"
  },
  "language_info": {
   "codemirror_mode": {
    "name": "ipython",
    "version": 3
   },
   "file_extension": ".py",
   "mimetype": "text/x-python",
   "name": "python",
   "nbconvert_exporter": "python",
   "pygments_lexer": "ipython3",
   "version": "3.8.13"
  },
  "orig_nbformat": 4
 },
 "nbformat": 4,
 "nbformat_minor": 2
}
