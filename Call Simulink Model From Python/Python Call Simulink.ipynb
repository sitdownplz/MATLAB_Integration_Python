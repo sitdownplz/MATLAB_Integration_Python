{
 "cells": [
  {
   "cell_type": "markdown",
   "metadata": {},
   "source": [
    "在 Python 中執行 Simulink 模擬\n",
    "\n"
   ]
  },
  {
   "cell_type": "code",
   "execution_count": 1,
   "metadata": {},
   "outputs": [],
   "source": [
    "import matlab.engine as eng\n",
    "import matplotlib.pyplot as plt\n",
    "from matplotlib import style\n",
    "import os"
   ]
  },
  {
   "cell_type": "code",
   "execution_count": 19,
   "metadata": {},
   "outputs": [
    {
     "name": "stdout",
     "output_type": "stream",
     "text": [
      "('MATLAB_13200',)\n"
     ]
    },
    {
     "ename": "EngineError",
     "evalue": "Unable to connect to MATLAB session 'MATLAB_13200'.",
     "output_type": "error",
     "traceback": [
      "\u001b[1;31m---------------------------------------------------------------------------\u001b[0m",
      "\u001b[1;31mEngineError\u001b[0m                               Traceback (most recent call last)",
      "\u001b[1;32mc:\\Users\\Tim\\Desktop\\terasoft\\活動與研討會資料\\MTK Day\\Demo\\Call Simulink Model From Python\\Python Call Simulink.ipynb Cell 3'\u001b[0m in \u001b[0;36m<cell line: 7>\u001b[1;34m()\u001b[0m\n\u001b[0;32m      <a href='vscode-notebook-cell:/c%3A/Users/Tim/Desktop/terasoft/%E6%B4%BB%E5%8B%95%E8%88%87%E7%A0%94%E8%A8%8E%E6%9C%83%E8%B3%87%E6%96%99/MTK%20Day/Demo/Call%20Simulink%20Model%20From%20Python/Python%20Call%20Simulink.ipynb#ch0000002?line=3'>4</a>\u001b[0m \u001b[39mprint\u001b[39m(matlab_ID)\n\u001b[0;32m      <a href='vscode-notebook-cell:/c%3A/Users/Tim/Desktop/terasoft/%E6%B4%BB%E5%8B%95%E8%88%87%E7%A0%94%E8%A8%8E%E6%9C%83%E8%B3%87%E6%96%99/MTK%20Day/Demo/Call%20Simulink%20Model%20From%20Python/Python%20Call%20Simulink.ipynb#ch0000002?line=5'>6</a>\u001b[0m \u001b[39m# 選取欲建立連結的 MATLAB Session\u001b[39;00m\n\u001b[1;32m----> <a href='vscode-notebook-cell:/c%3A/Users/Tim/Desktop/terasoft/%E6%B4%BB%E5%8B%95%E8%88%87%E7%A0%94%E8%A8%8E%E6%9C%83%E8%B3%87%E6%96%99/MTK%20Day/Demo/Call%20Simulink%20Model%20From%20Python/Python%20Call%20Simulink.ipynb#ch0000002?line=6'>7</a>\u001b[0m sess \u001b[39m=\u001b[39m eng\u001b[39m.\u001b[39;49mconnect_matlab(matlab_ID[\u001b[39m0\u001b[39;49m])\n\u001b[0;32m      <a href='vscode-notebook-cell:/c%3A/Users/Tim/Desktop/terasoft/%E6%B4%BB%E5%8B%95%E8%88%87%E7%A0%94%E8%A8%8E%E6%9C%83%E8%B3%87%E6%96%99/MTK%20Day/Demo/Call%20Simulink%20Model%20From%20Python/Python%20Call%20Simulink.ipynb#ch0000002?line=7'>8</a>\u001b[0m \u001b[39mprint\u001b[39m(sess)\n",
      "File \u001b[1;32mc:\\Users\\Tim\\anaconda3\\envs\\pytorch\\lib\\site-packages\\matlab\\engine\\__init__.py:197\u001b[0m, in \u001b[0;36mconnect_matlab\u001b[1;34m(name, **kwargs)\u001b[0m\n\u001b[0;32m    <a href='file:///c%3A/Users/Tim/anaconda3/envs/pytorch/lib/site-packages/matlab/engine/__init__.py?line=194'>195</a>\u001b[0m future \u001b[39m=\u001b[39m FutureResult(name\u001b[39m=\u001b[39mname, attach\u001b[39m=\u001b[39m\u001b[39mTrue\u001b[39;00m)\n\u001b[0;32m    <a href='file:///c%3A/Users/Tim/anaconda3/envs/pytorch/lib/site-packages/matlab/engine/__init__.py?line=195'>196</a>\u001b[0m \u001b[39mif\u001b[39;00m \u001b[39mnot\u001b[39;00m background:\n\u001b[1;32m--> <a href='file:///c%3A/Users/Tim/anaconda3/envs/pytorch/lib/site-packages/matlab/engine/__init__.py?line=196'>197</a>\u001b[0m     eng \u001b[39m=\u001b[39m future\u001b[39m.\u001b[39;49mresult()\n\u001b[0;32m    <a href='file:///c%3A/Users/Tim/anaconda3/envs/pytorch/lib/site-packages/matlab/engine/__init__.py?line=197'>198</a>\u001b[0m     \u001b[39mreturn\u001b[39;00m eng\n\u001b[0;32m    <a href='file:///c%3A/Users/Tim/anaconda3/envs/pytorch/lib/site-packages/matlab/engine/__init__.py?line=198'>199</a>\u001b[0m \u001b[39melse\u001b[39;00m:\n",
      "File \u001b[1;32mc:\\Users\\Tim\\anaconda3\\envs\\pytorch\\lib\\site-packages\\matlab\\engine\\futureresult.py:67\u001b[0m, in \u001b[0;36mFutureResult.result\u001b[1;34m(self, timeout)\u001b[0m\n\u001b[0;32m     <a href='file:///c%3A/Users/Tim/anaconda3/envs/pytorch/lib/site-packages/matlab/engine/futureresult.py?line=63'>64</a>\u001b[0m     \u001b[39mif\u001b[39;00m timeout \u001b[39m<\u001b[39m \u001b[39m0\u001b[39m:\n\u001b[0;32m     <a href='file:///c%3A/Users/Tim/anaconda3/envs/pytorch/lib/site-packages/matlab/engine/futureresult.py?line=64'>65</a>\u001b[0m         \u001b[39mraise\u001b[39;00m \u001b[39mTypeError\u001b[39;00m(pythonengine\u001b[39m.\u001b[39mgetMessage(\u001b[39m'\u001b[39m\u001b[39mTimeoutCannotBeNegative\u001b[39m\u001b[39m'\u001b[39m))\n\u001b[1;32m---> <a href='file:///c%3A/Users/Tim/anaconda3/envs/pytorch/lib/site-packages/matlab/engine/futureresult.py?line=66'>67</a>\u001b[0m \u001b[39mreturn\u001b[39;00m \u001b[39mself\u001b[39;49m\u001b[39m.\u001b[39;49m__future\u001b[39m.\u001b[39;49mresult(timeout)\n",
      "File \u001b[1;32mc:\\Users\\Tim\\anaconda3\\envs\\pytorch\\lib\\site-packages\\matlab\\engine\\matlabfuture.py:87\u001b[0m, in \u001b[0;36mMatlabFuture.result\u001b[1;34m(self, timeout)\u001b[0m\n\u001b[0;32m     <a href='file:///c%3A/Users/Tim/anaconda3/envs/pytorch/lib/site-packages/matlab/engine/matlabfuture.py?line=83'>84</a>\u001b[0m     \u001b[39melse\u001b[39;00m:\n\u001b[0;32m     <a href='file:///c%3A/Users/Tim/anaconda3/envs/pytorch/lib/site-packages/matlab/engine/matlabfuture.py?line=84'>85</a>\u001b[0m         \u001b[39mraise\u001b[39;00m \u001b[39mTimeoutError\u001b[39;00m(pythonengine\u001b[39m.\u001b[39mgetMessage(\u001b[39m'\u001b[39m\u001b[39mLaunchMatlabTimeout\u001b[39m\u001b[39m'\u001b[39m))\n\u001b[1;32m---> <a href='file:///c%3A/Users/Tim/anaconda3/envs/pytorch/lib/site-packages/matlab/engine/matlabfuture.py?line=86'>87</a>\u001b[0m handle \u001b[39m=\u001b[39m pythonengine\u001b[39m.\u001b[39;49mgetMATLAB(\u001b[39mself\u001b[39;49m\u001b[39m.\u001b[39;49m_future)\n\u001b[0;32m     <a href='file:///c%3A/Users/Tim/anaconda3/envs/pytorch/lib/site-packages/matlab/engine/matlabfuture.py?line=87'>88</a>\u001b[0m eng \u001b[39m=\u001b[39m MatlabEngine(handle)\n\u001b[0;32m     <a href='file:///c%3A/Users/Tim/anaconda3/envs/pytorch/lib/site-packages/matlab/engine/matlabfuture.py?line=88'>89</a>\u001b[0m \u001b[39mself\u001b[39m\u001b[39m.\u001b[39m_matlab \u001b[39m=\u001b[39m eng\n",
      "\u001b[1;31mEngineError\u001b[0m: Unable to connect to MATLAB session 'MATLAB_13200'."
     ]
    }
   ],
   "source": [
    "# 找到現有執行中的 MATLAB Session ID\n",
    "# In MATLAB: matlab.engine.shareEngine\n",
    "matlab_ID = eng.find_matlab()\n",
    "print(matlab_ID)\n",
    "\n",
    "# 選取欲建立連結的 MATLAB Session\n",
    "sess = eng.connect_matlab(matlab_ID[0])\n",
    "print(sess)"
   ]
  },
  {
   "cell_type": "markdown",
   "metadata": {},
   "source": [
    "建立 Simulink 模型物件"
   ]
  },
  {
   "cell_type": "code",
   "execution_count": 31,
   "metadata": {},
   "outputs": [
    {
     "name": "stdout",
     "output_type": "stream",
     "text": [
      "<class 'matlab.object'>\n"
     ]
    }
   ],
   "source": [
    "Model_path = 'C:/Users/Tim/Desktop/terasoft/活動與研討會資料/MTK Day/Demo/Call Simulink Model From Python'\n",
    "os.chdir(Model_path)\n",
    "simInp = sess.Simulink.SimulationInput('MassSpringDamperModel')\n",
    "print(type(simInp))"
   ]
  },
  {
   "cell_type": "code",
   "execution_count": 32,
   "metadata": {},
   "outputs": [],
   "source": [
    "# Parameters Configuration\n",
    "Stiffness = 128.0     # N/m\n",
    "Mass = 2.0            # kg\n",
    "Damping = 3.0         # N/m\n",
    "InitialPosition = 0.0 # m"
   ]
  },
  {
   "cell_type": "markdown",
   "metadata": {},
   "source": [
    "修改 Simulink Block 參數"
   ]
  },
  {
   "cell_type": "code",
   "execution_count": 33,
   "metadata": {},
   "outputs": [],
   "source": [
    "# Set up parameters in Simulink blocks\n",
    "simInp = sess.setVariable(simInp,'k',Stiffness)\n",
    "simInp = sess.setVariable(simInp,'m',Mass)\n",
    "simInp = sess.setVariable(simInp,'b',Damping)\n",
    "simInp = sess.setVariable(simInp,'x0',InitialPosition)"
   ]
  },
  {
   "cell_type": "code",
   "execution_count": 34,
   "metadata": {},
   "outputs": [],
   "source": [
    "# set the model parameters for this run\n",
    "stopTime  = 20.0 # seconds\n",
    "stopTimeStr = sess.num2str(stopTime)\n",
    "simInp = sess.setModelParameter(simInp,'StopTime', stopTimeStr)"
   ]
  },
  {
   "cell_type": "markdown",
   "metadata": {},
   "source": [
    "執行模擬"
   ]
  },
  {
   "cell_type": "code",
   "execution_count": 35,
   "metadata": {},
   "outputs": [],
   "source": [
    "# run\n",
    "simOut = sess.sim(simInp)"
   ]
  },
  {
   "cell_type": "markdown",
   "metadata": {},
   "source": [
    "取回模擬結果"
   ]
  },
  {
   "cell_type": "code",
   "execution_count": 36,
   "metadata": {},
   "outputs": [],
   "source": [
    "#  extract and plot the results\n",
    "sess.workspace['simOut'] = simOut\n",
    "t = sess.eval('simOut.y.time')\n",
    "yp = sess.eval('simOut.y.signals(1).values')\n",
    "yv = sess.eval('simOut.y.signals(2).values')"
   ]
  },
  {
   "cell_type": "markdown",
   "metadata": {},
   "source": [
    "繪製模擬結果"
   ]
  },
  {
   "cell_type": "code",
   "execution_count": 37,
   "metadata": {},
   "outputs": [
    {
     "data": {
      "text/plain": [
       "[<matplotlib.lines.Line2D at 0x192a1811ee0>]"
      ]
     },
     "execution_count": 37,
     "metadata": {},
     "output_type": "execute_result"
    },
    {
     "data": {
      "image/png": "[encoded data removed]",
      "text/plain": [
       "<Figure size 432x288 with 1 Axes>"
      ]
     },
     "metadata": {},
     "output_type": "display_data"
    },
    {
     "data": {
      "image/png": "[encoded data removed]",
      "text/plain": [
       "<Figure size 432x288 with 1 Axes>"
      ]
     },
     "metadata": {},
     "output_type": "display_data"
    }
   ],
   "source": [
    "style.use('seaborn-dark')\n",
    "plt.figure()\n",
    "plt.plot(t, yp)\n",
    "plt.figure()\n",
    "plt.plot(t, yv)"
   ]
  }
 ],
 "metadata": {
  "interpreter": {
   "hash": "8105fc34f84f95f35c6f2d876cc3e9ecd00131f83b1f6204b82a7a9426cdf110"
  },
  "kernelspec": {
   "display_name": "Python 3.8.13 ('pytorch')",
   "language": "python",
   "name": "python3"
  },
  "language_info": {
   "codemirror_mode": {
    "name": "ipython",
    "version": 3
   },
   "file_extension": ".py",
   "mimetype": "text/x-python",
   "name": "python",
   "nbconvert_exporter": "python",
   "pygments_lexer": "ipython3",
   "version": "3.8.13"
  },
  "orig_nbformat": 4
 },
 "nbformat": 4,
 "nbformat_minor": 2
}
